{
 "cells": [
  {
   "cell_type": "code",
   "execution_count": 1,
   "id": "42e55fe2-80b4-4b9a-a94c-798a07e96fe4",
   "metadata": {},
   "outputs": [
    {
     "name": "stdout",
     "output_type": "stream",
     "text": [
      "Исходный массив:\n",
      " [[1 2 3]\n",
      " [4 5 6]\n",
      " [7 8 9]]\n",
      "\n",
      "Массив, умноженный на 2:\n",
      " [[ 2  4  6]\n",
      " [ 8 10 12]\n",
      " [14 16 18]]\n",
      "\n",
      "Массив с элементами больше 10 замененными на 0:\n",
      " [[ 2  4  6]\n",
      " [ 8 10  0]\n",
      " [ 0  0  0]]\n"
     ]
    }
   ],
   "source": [
    "import numpy as np\n",
    "\n",
    "# Создаем массив NumPy размером 3x3 с числами от 1 до 9\n",
    "arr = np.arange(1, 10).reshape((3, 3))\n",
    "print(\"Исходный массив:\\n\", arr)\n",
    "\n",
    "# Умножаем все элементы массива на 2\n",
    "arr = arr * 2\n",
    "print(\"\\nМассив, умноженный на 2:\\n\", arr)\n",
    "\n",
    "# Заменяем все элементы больше 10 на 0\n",
    "arr[arr > 10] = 0\n",
    "print(\"\\nМассив с элементами больше 10 замененными на 0:\\n\", arr)\n"
   ]
  },
  {
   "cell_type": "code",
   "execution_count": 2,
   "id": "d9a7633f-553a-4c5f-9b97-804178aa8cf7",
   "metadata": {},
   "outputs": [
    {
     "name": "stdout",
     "output_type": "stream",
     "text": [
      "Исходный массив:\n",
      " [ 44  35  38  79  88  25  63  43  66  44  10  89  21  55  56  25  43 100\n",
      "   7  96]\n",
      "\n",
      "Элементы, делящиеся на 5 без остатка:\n",
      " [ 35  25  10  55  25 100]\n",
      "\n",
      "Обновленный массив:\n",
      " [44 -1 38 79 88 -1 63 43 66 44 -1 89 21 -1 56 -1 43 -1  7 96]\n"
     ]
    }
   ],
   "source": [
    "import numpy as np\n",
    "\n",
    "# Создаем массив NumPy из 20 случайных целых чисел от 1 до 100\n",
    "arr = np.random.randint(1, 101, 20)\n",
    "print(\"Исходный массив:\\n\", arr)\n",
    "\n",
    "# Находим и выводим все элементы, которые делятся на 5 без остатка\n",
    "divisible_by_5 = arr[arr % 5 == 0]\n",
    "print(\"\\nЭлементы, делящиеся на 5 без остатка:\\n\", divisible_by_5)\n",
    "\n",
    "# Заменяем элементы, делящиеся на 5, на -1\n",
    "arr[arr % 5 == 0] = -1\n",
    "print(\"\\nОбновленный массив:\\n\", arr)\n"
   ]
  },
  {
   "cell_type": "code",
   "execution_count": 3,
   "id": "485dfe9c-dd59-462a-b220-98b6a7ab5d6f",
   "metadata": {},
   "outputs": [
    {
     "name": "stdout",
     "output_type": "stream",
     "text": [
      "Массив 1:\n",
      " [[ 6 50 30  9 42]]\n",
      "\n",
      "Массив 2:\n",
      " [[25  5 36  0 10]]\n",
      "\n",
      "Объединенный массив:\n",
      " [[ 6 50 30  9 42]\n",
      " [25  5 36  0 10]]\n",
      "\n",
      "Разделенный массив 1:\n",
      " [[ 6 50 30  9 42]]\n",
      "\n",
      "Разделенный массив 2:\n",
      " [[25  5 36  0 10]]\n"
     ]
    }
   ],
   "source": [
    "import numpy as np\n",
    "\n",
    "# Создаем два массива NumPy размером 1x5 со случайными числами от 0 до 50\n",
    "arr1 = np.random.randint(0, 51, (1, 5))\n",
    "arr2 = np.random.randint(0, 51, (1, 5))\n",
    "\n",
    "print(\"Массив 1:\\n\", arr1)\n",
    "print(\"\\nМассив 2:\\n\", arr2)\n",
    "\n",
    "# Объединяем массивы в один двумерный массив (по строкам)\n",
    "combined_arr = np.concatenate((arr1, arr2), axis=0)\n",
    "print(\"\\nОбъединенный массив:\\n\", combined_arr)\n",
    "\n",
    "# Разделяем полученный массив на два массива, каждый из которых содержит 5 элементов\n",
    "arr_split = np.split(combined_arr, 2)\n",
    "print(\"\\nРазделенный массив 1:\\n\", arr_split[0])\n",
    "print(\"\\nРазделенный массив 2:\\n\", arr_split[1])\n"
   ]
  },
  {
   "cell_type": "code",
   "execution_count": 4,
   "id": "3fa103ce-a97e-4854-bdf0-4c17b1aa07cf",
   "metadata": {},
   "outputs": [
    {
     "name": "stdout",
     "output_type": "stream",
     "text": [
      "Исходный массив:\n",
      " [-10.          -9.59183673  -9.18367347  -8.7755102   -8.36734694\n",
      "  -7.95918367  -7.55102041  -7.14285714  -6.73469388  -6.32653061\n",
      "  -5.91836735  -5.51020408  -5.10204082  -4.69387755  -4.28571429\n",
      "  -3.87755102  -3.46938776  -3.06122449  -2.65306122  -2.24489796\n",
      "  -1.83673469  -1.42857143  -1.02040816  -0.6122449   -0.20408163\n",
      "   0.20408163   0.6122449    1.02040816   1.42857143   1.83673469\n",
      "   2.24489796   2.65306122   3.06122449   3.46938776   3.87755102\n",
      "   4.28571429   4.69387755   5.10204082   5.51020408   5.91836735\n",
      "   6.32653061   6.73469388   7.14285714   7.55102041   7.95918367\n",
      "   8.36734694   8.7755102    9.18367347   9.59183673  10.        ]\n",
      "\n",
      "Сумма всех элементов: 7.105427357601002e-15\n",
      "\n",
      "Сумма положительных элементов: 127.55102040816328\n",
      "\n",
      "Сумма отрицательных элементов: -127.55102040816327\n"
     ]
    }
   ],
   "source": [
    "import numpy as np\n",
    "\n",
    "# Создаем массив из 50 чисел, равномерно распределенных от -10 до 10\n",
    "arr = np.linspace(-10, 10, 50)\n",
    "\n",
    "print(\"Исходный массив:\\n\", arr)\n",
    "\n",
    "# Вычисляем сумму всех элементов\n",
    "total_sum = np.sum(arr)\n",
    "print(\"\\nСумма всех элементов:\", total_sum)\n",
    "\n",
    "# Вычисляем сумму положительных элементов\n",
    "positive_elements = arr[arr > 0]  # Выбираем положительные элементы\n",
    "positive_sum = np.sum(positive_elements)\n",
    "print(\"\\nСумма положительных элементов:\", positive_sum)\n",
    "\n",
    "# Вычисляем сумму отрицательных элементов\n",
    "negative_elements = arr[arr < 0]  # Выбираем отрицательные элементы\n",
    "negative_sum = np.sum(negative_elements)\n",
    "print(\"\\nСумма отрицательных элементов:\", negative_sum)\n",
    "\n"
   ]
  },
  {
   "cell_type": "code",
   "execution_count": 5,
   "id": "0f1e3243-071d-4103-9a8e-1b7dfb7348c9",
   "metadata": {},
   "outputs": [
    {
     "name": "stdout",
     "output_type": "stream",
     "text": [
      "Единичная матрица:\n",
      " [[1. 0. 0. 0.]\n",
      " [0. 1. 0. 0.]\n",
      " [0. 0. 1. 0.]\n",
      " [0. 0. 0. 1.]]\n",
      "\n",
      "Диагональная матрица:\n",
      " [[ 5  0  0  0]\n",
      " [ 0 10  0  0]\n",
      " [ 0  0 15  0]\n",
      " [ 0  0  0 20]]\n"
     ]
    }
   ],
   "source": [
    "import numpy as np\n",
    "\n",
    "# Создаем единичную матрицу размером 4x4\n",
    "identity_matrix = np.eye(4)\n",
    "print(\"Единичная матрица:\\n\", identity_matrix)\n",
    "\n",
    "# Создаем диагональную матрицу размером 4x4 с диагональными элементами [5, 10, 15, 20]\n",
    "diagonal_elements = [5, 10, 15, 20]\n",
    "diagonal_matrix = np.diag(diagonal_elements)\n",
    "print(\"\\nДиагональная матрица:\\n\", diagonal_matrix)\n"
   ]
  },
  {
   "cell_type": "code",
   "execution_count": 6,
   "id": "a5e2efb8-16dc-4bac-89b2-116d94de4d69",
   "metadata": {},
   "outputs": [
    {
     "name": "stdout",
     "output_type": "stream",
     "text": [
      "Матрица 1:\n",
      " [[ 9  6  7]\n",
      " [ 6  6 12]\n",
      " [10 16 17]]\n",
      "\n",
      "Матрица 2:\n",
      " [[11 16  6]\n",
      " [ 1  9 17]\n",
      " [ 7 17  1]]\n",
      "\n",
      "Сумма матриц:\n",
      " [[20 22 13]\n",
      " [ 7 15 29]\n",
      " [17 33 18]]\n",
      "\n",
      "Разность матриц:\n",
      " [[ -2 -10   1]\n",
      " [  5  -3  -5]\n",
      " [  3  -1  16]]\n",
      "\n",
      "Поэлементное произведение матриц:\n",
      " [[ 99  96  42]\n",
      " [  6  54 204]\n",
      " [ 70 272  17]]\n"
     ]
    }
   ],
   "source": [
    "import numpy as np\n",
    "\n",
    "# Создаем две квадратные матрицы NumPy размером 3x3 со случайными целыми числами от 1 до 20\n",
    "matrix1 = np.random.randint(1, 21, (3, 3))\n",
    "matrix2 = np.random.randint(1, 21, (3, 3))\n",
    "\n",
    "print(\"Матрица 1:\\n\", matrix1)\n",
    "print(\"\\nМатрица 2:\\n\", matrix2)\n",
    "\n",
    "# Вычисляем их сумму\n",
    "sum_matrix = matrix1 + matrix2\n",
    "print(\"\\nСумма матриц:\\n\", sum_matrix)\n",
    "\n",
    "# Вычисляем их разность\n",
    "difference_matrix = matrix1 - matrix2\n",
    "print(\"\\nРазность матриц:\\n\", difference_matrix)\n",
    "\n",
    "# Вычисляем их поэлементное произведение\n",
    "elementwise_product_matrix = matrix1 * matrix2\n",
    "print(\"\\nПоэлементное произведение матриц:\\n\", elementwise_product_matrix)\n"
   ]
  },
  {
   "cell_type": "code",
   "execution_count": 9,
   "id": "7e68f011-089b-4326-bd1a-808cef93a426",
   "metadata": {},
   "outputs": [
    {
     "name": "stdout",
     "output_type": "stream",
     "text": [
      "Матрица 1 (2x3):\n",
      " [[10  8  4]\n",
      " [ 6  5  8]]\n",
      "\n",
      "Матрица 2 (3x2):\n",
      " [[ 1  9]\n",
      " [ 7 10]\n",
      " [ 2  8]]\n",
      "\n",
      "Матричное умножение (оператор @):\n",
      " [[ 74 202]\n",
      " [ 57 168]]\n",
      "\n",
      "Матричное умножение (np.dot()):\n",
      " [[ 74 202]\n",
      " [ 57 168]]\n"
     ]
    }
   ],
   "source": [
    "import numpy as np\n",
    "\n",
    "# Создаем две матрицы:\n",
    "matrix1 = np.random.randint(1, 11, (2, 3))  # 2x3\n",
    "matrix2 = np.random.randint(1, 11, (3, 2))  # 3x2\n",
    "\n",
    "print(\"Матрица 1 (2x3):\\n\", matrix1)\n",
    "print(\"\\nМатрица 2 (3x2):\\n\", matrix2)\n",
    "\n",
    "# Выполняем матричное умножение с использованием оператора @\n",
    "product_matrix_at = matrix1 @ matrix2\n",
    "\n",
    "# Выполняем матричное умножение с использованием np.dot()\n",
    "product_matrix_dot = np.dot(matrix1, matrix2)\n",
    "\n",
    "\n",
    "print(\"\\nМатричное умножение (оператор @):\\n\", product_matrix_at)\n",
    "print(\"\\nМатричное умножение (np.dot()):\\n\", product_matrix_dot)\n"
   ]
  },
  {
   "cell_type": "code",
   "execution_count": 10,
   "id": "f614d8d1-5a42-4146-b334-12f0ec6ff048",
   "metadata": {},
   "outputs": [
    {
     "name": "stdout",
     "output_type": "stream",
     "text": [
      "Исходная матрица:\n",
      " [[0.70936219 0.59086183 0.58919872]\n",
      " [0.78317785 0.87717868 0.64133221]\n",
      " [0.91867446 0.73783486 0.46080219]]\n",
      "\n",
      "Определитель матрицы: -0.048383635643466746\n",
      "\n",
      "Обратная матрица:\n",
      " [[ 1.42592428 -3.35776603  2.85000976]\n",
      " [-4.71823691  4.43137777 -0.13456128]\n",
      " [ 4.71204238 -0.40132423 -3.29631072]]\n"
     ]
    }
   ],
   "source": [
    "import numpy as np\n",
    "\n",
    "# Создаем случайную квадратную матрицу 3x3\n",
    "matrix = np.random.rand(3, 3)\n",
    "print(\"Исходная матрица:\\n\", matrix)\n",
    "\n",
    "# Вычисляем определитель матрицы\n",
    "determinant = np.linalg.det(matrix)\n",
    "print(\"\\nОпределитель матрицы:\", determinant)\n",
    "\n",
    "# Находим обратную матрицу (если определитель не равен нулю)\n",
    "if np.abs(determinant) > 1e-8:  # Проверка на вырожденность (определитель близок к нулю)\n",
    "    inverse_matrix = np.linalg.inv(matrix)\n",
    "    print(\"\\nОбратная матрица:\\n\", inverse_matrix)\n",
    "else:\n",
    "    print(\"\\nМатрица вырождена (определитель близок к нулю), обратная матрица не существует.\")\n"
   ]
  },
  {
   "cell_type": "code",
   "execution_count": 11,
   "id": "0dc5548b-ad59-4b15-955b-ba8bd8841a21",
   "metadata": {},
   "outputs": [
    {
     "name": "stdout",
     "output_type": "stream",
     "text": [
      "Исходная матрица:\n",
      " [[26 37 47 17]\n",
      " [48 24 32 31]\n",
      " [26 49  9  8]\n",
      " [15 39 48 44]]\n",
      "\n",
      "Транспонированная матрица:\n",
      " [[26 48 26 15]\n",
      " [37 24 49 39]\n",
      " [47 32  9 48]\n",
      " [17 31  8 44]]\n",
      "\n",
      "След матрицы: 103\n"
     ]
    }
   ],
   "source": [
    "import numpy as np\n",
    "\n",
    "# Создаем матрицу NumPy размером 4x4, содержащую случайные целые числа от 1 до 50\n",
    "matrix = np.random.randint(1, 51, (4, 4))\n",
    "\n",
    "print(\"Исходная матрица:\\n\", matrix)\n",
    "\n",
    "# Находим транспонированную матрицу\n",
    "transposed_matrix = matrix.T  # Или np.transpose(matrix)\n",
    "print(\"\\nТранспонированная матрица:\\n\", transposed_matrix)\n",
    "\n",
    "# Находим след матрицы (сумму элементов на главной диагонали)\n",
    "trace = np.trace(matrix)\n",
    "print(\"\\nСлед матрицы:\", trace)\n"
   ]
  },
  {
   "cell_type": "code",
   "execution_count": 12,
   "id": "3c84d889-e576-4860-b96c-060ba64c1dc5",
   "metadata": {},
   "outputs": [
    {
     "name": "stdout",
     "output_type": "stream",
     "text": [
      "Решение системы уравнений:\n",
      " [1.63963964 0.57657658 0.00900901]\n"
     ]
    }
   ],
   "source": [
    "import numpy as np\n",
    "\n",
    "# Матрица коэффициентов A\n",
    "A = np.array([[2, 3, -1],\n",
    "              [4, -1, 2],\n",
    "              [-3, 5, 4]])\n",
    "\n",
    "# Вектор правой части B\n",
    "B = np.array([5, 6, -2])\n",
    "\n",
    "# Решение системы уравнений с помощью np.linalg.solve\n",
    "x = np.linalg.solve(A, B)\n",
    "\n",
    "# Вывод результата\n",
    "print(\"Решение системы уравнений:\\n\", x)\n"
   ]
  },
  {
   "cell_type": "code",
   "execution_count": 15,
   "id": "b9ebbc36-6177-4d73-88a9-d8ba3278b30d",
   "metadata": {},
   "outputs": [
    {
     "name": "stdout",
     "output_type": "stream",
     "text": [
      "Решение методом Крамера:\n",
      "x = 399999.99999999953\n",
      "y = 200000.0000000001\n",
      "z = 399999.99999999953\n"
     ]
    }
   ],
   "source": [
    "import numpy as np\n",
    "\n",
    "# Матрица коэффициентов A\n",
    "A = np.array([[1, 1, 1],\n",
    "              [1, -2, 0],\n",
    "              [0, -1, 1]])\n",
    "\n",
    "# Вектор правой части B\n",
    "B = np.array([1000000, 0, 200000])\n",
    "\n",
    "# Вычисление определителя матрицы A\n",
    "det_A = np.linalg.det(A)\n",
    "\n",
    "if abs(det_A) < 1e-8:\n",
    "    print(\"Система не имеет единственного решения (определитель равен 0).\")\n",
    "else:\n",
    "    # Вычисление определителей для x, y, z\n",
    "    A_x = np.copy(A)\n",
    "    A_x[:, 0] = B\n",
    "    det_A_x = np.linalg.det(A_x)\n",
    "\n",
    "    A_y = np.copy(A)\n",
    "    A_y[:, 1] = B\n",
    "    det_A_y = np.linalg.det(A_y)\n",
    "\n",
    "    A_z = np.copy(A)\n",
    "    A_z[:, 2] = B\n",
    "    det_A_z = np.linalg.det(A_z)\n",
    "\n",
    "    # Вычисление значений x, y, z\n",
    "    x = det_A_x / det_A\n",
    "    y = det_A_y / det_A\n",
    "    z = det_A_z / det_A\n",
    "\n",
    "    print(\"Решение методом Крамера:\")\n",
    "    print(\"x =\", x)\n",
    "    print(\"y =\", y)\n",
    "    print(\"z =\", z)\n",
    "\n"
   ]
  },
  {
   "cell_type": "code",
   "execution_count": 17,
   "id": "fab97704-76c3-43ab-bebf-b5adea7f69b3",
   "metadata": {},
   "outputs": [
    {
     "name": "stdout",
     "output_type": "stream",
     "text": [
      "\n",
      "Решение матричным методом:\n",
      "x = 400000.0\n",
      "y = 200000.0\n",
      "z = 400000.0\n"
     ]
    }
   ],
   "source": [
    "import numpy as np\n",
    "\n",
    "# Матрица коэффициентов A (как в методе Крамера)\n",
    "A = np.array([[1, 1, 1],\n",
    "              [1, -2, 0],\n",
    "              [0, -1, 1]])\n",
    "\n",
    "# Вектор правой части B (как в методе Крамера)\n",
    "B = np.array([1000000, 0, 200000])\n",
    "\n",
    "# Нахождение обратной матрицы A^-1\n",
    "try:\n",
    "    A_inv = np.linalg.inv(A)\n",
    "    # Решение системы уравнений: x = A^-1 * B\n",
    "    x = np.dot(A_inv, B)\n",
    "\n",
    "    print(\"\\nРешение матричным методом:\")\n",
    "    print(\"x =\", x[0])\n",
    "    print(\"y =\", x[1])\n",
    "    print(\"z =\", x[2])\n",
    "\n",
    "except np.linalg.LinAlgError:\n",
    "    print(\"\\nМатрица A не имеет обратной (вырожденная), матричный метод не применим.\")\n",
    "\n"
   ]
  },
  {
   "cell_type": "code",
   "execution_count": 18,
   "id": "fe0997c8-c9f6-4366-9921-e4daf4783e95",
   "metadata": {},
   "outputs": [
    {
     "name": "stdout",
     "output_type": "stream",
     "text": [
      "\n",
      "Решение с использованием np.linalg.solve:\n",
      "x = 400000.0\n",
      "y = 200000.0\n",
      "z = 400000.00000000006\n"
     ]
    }
   ],
   "source": [
    "import numpy as np\n",
    "\n",
    "# Матрица коэффициентов A (как в методе Крамера и матричном методе)\n",
    "A = np.array([[1, 1, 1],\n",
    "              [1, -2, 0],\n",
    "              [0, -1, 1]])\n",
    "\n",
    "# Вектор правой части B (как в методе Крамера и матричном методе)\n",
    "B = np.array([1000000, 0, 200000])\n",
    "\n",
    "# Решение с использованием np.linalg.solve\n",
    "x = np.linalg.solve(A, B)\n",
    "\n",
    "print(\"\\nРешение с использованием np.linalg.solve:\")\n",
    "print(\"x =\", x[0])\n",
    "print(\"y =\", x[1])\n",
    "print(\"z =\", x[2])\n",
    "\n"
   ]
  },
  {
   "cell_type": "code",
   "execution_count": 1,
   "id": "bb7820c7-973c-4514-9f3b-08ed2e3215df",
   "metadata": {},
   "outputs": [
    {
     "name": "stdout",
     "output_type": "stream",
     "text": [
      "Решение с помощью np.linalg.solve:\n",
      "Первый проект: 400000.0 рублей\n",
      "Второй проект: 200000.0 рублей\n",
      "Третий проект: 400000.00000000006 рублей\n",
      "------------------------------\n",
      "Решение методом Крамера:\n",
      "Первый проект: 399999.99999999953 рублей\n",
      "Второй проект: 200000.0000000001 рублей\n",
      "Третий проект: 399999.99999999953 рублей\n",
      "------------------------------\n",
      "Решение матричным методом:\n",
      "Первый проект: 400000.0 рублей\n",
      "Второй проект: 200000.0 рублей\n",
      "Третий проект: 400000.0 рублей\n",
      "------------------------------\n"
     ]
    }
   ],
   "source": [
    "import numpy as np\n",
    "\n",
    "# Матрица коэффициентов\n",
    "A = np.array([[1, 1, 1],\n",
    "              [1, -2, 0],\n",
    "              [0, -1, 1]])\n",
    "\n",
    "# Вектор свободных членов\n",
    "b = np.array([1000000, 0, 200000])\n",
    "\n",
    "# 3. Решение с помощью np.linalg.solve\n",
    "x_solve = np.linalg.solve(A, b)\n",
    "print(\"Решение с помощью np.linalg.solve:\")\n",
    "print(\"Первый проект:\", x_solve[0], \"рублей\")\n",
    "print(\"Второй проект:\", x_solve[1], \"рублей\")\n",
    "print(\"Третий проект:\", x_solve[2], \"рублей\")\n",
    "print(\"-\" * 30)\n",
    "\n",
    "\n",
    "# Метод Крамера\n",
    "def cramer(A, b):\n",
    "    det_A = np.linalg.det(A)\n",
    "    if det_A == 0:\n",
    "        return \"Система не имеет решений или имеет бесконечно много решений\"\n",
    "    \n",
    "    n = len(b)\n",
    "    x = np.zeros(n)\n",
    "    for i in range(n):\n",
    "        A_i = A.copy()\n",
    "        A_i[:, i] = b\n",
    "        x[i] = np.linalg.det(A_i) / det_A\n",
    "    return x\n",
    "\n",
    "x_cramer = cramer(A, b)\n",
    "\n",
    "print(\"Решение методом Крамера:\")\n",
    "print(\"Первый проект:\", x_cramer[0], \"рублей\")\n",
    "print(\"Второй проект:\", x_cramer[1], \"рублей\")\n",
    "print(\"Третий проект:\", x_cramer[2], \"рублей\")\n",
    "print(\"-\" * 30)\n",
    "\n",
    "\n",
    "# Матричный метод\n",
    "def matrix_method(A, b):\n",
    "    try:\n",
    "        A_inv = np.linalg.inv(A)\n",
    "        x = A_inv @ b\n",
    "        return x\n",
    "    except np.linalg.LinAlgError:\n",
    "        return \"Матрица необратима, система не имеет единственного решения.\"\n",
    "x_matrix = matrix_method(A, b)\n",
    "print(\"Решение матричным методом:\")\n",
    "print(\"Первый проект:\", x_matrix[0], \"рублей\")\n",
    "print(\"Второй проект:\", x_matrix[1], \"рублей\")\n",
    "print(\"Третий проект:\", x_matrix[2], \"рублей\")\n",
    "print(\"-\" * 30)\n"
   ]
  },
  {
   "cell_type": "code",
   "execution_count": null,
   "id": "60127976-eb9c-4dfb-bbd6-6258e7b855e5",
   "metadata": {},
   "outputs": [],
   "source": []
  }
 ],
 "metadata": {
  "kernelspec": {
   "display_name": "Python 3 (ipykernel)",
   "language": "python",
   "name": "python3"
  },
  "language_info": {
   "codemirror_mode": {
    "name": "ipython",
    "version": 3
   },
   "file_extension": ".py",
   "mimetype": "text/x-python",
   "name": "python",
   "nbconvert_exporter": "python",
   "pygments_lexer": "ipython3",
   "version": "3.9.1"
  }
 },
 "nbformat": 4,
 "nbformat_minor": 5
}
